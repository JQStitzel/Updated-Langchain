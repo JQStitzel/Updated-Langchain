{
 "cells": [
  {
   "cell_type": "code",
   "execution_count": null,
   "id": "260493e8",
   "metadata": {},
   "outputs": [],
   "source": [
    "from langchain_community.document_loaders import PyPDFLoader\n",
    "from langchain.text_splitter import RecursiveCharacterTextSplitter\n",
    "from langchain_ollama import OllamaEmbeddings\n",
    "from langchain_community.vectorstores import FAISS\n",
    "from langchain_core.prompts import ChatPromptTemplate\n",
    "from langchain_openai import AzureChatOpenAI\n",
    "from langchain.chains.combine_documents import create_stuff_documents_chain\n",
    "from langchain.chains import create_retrieval_chain\n",
    "from langserve import add_routes\n",
    "import uvicorn\n",
    "import os\n",
    "from dotenv import load_dotenv\n",
    "from fastapi import Request\n",
    "from openai import AzureOpenAI\n",
    "from datetime import datetime\n",
    "\n",
    "load_dotenv()"
   ]
  },
  {
   "cell_type": "code",
   "execution_count": null,
   "id": "99f264d4",
   "metadata": {},
   "outputs": [],
   "source": [
    "\n",
    "# PDF loader\n",
    "attention_loader = PyPDFLoader('../rag/attention.pdf')\n",
    "attention_docs = attention_loader.load()\n",
    "\n",
    "text_splitter = RecursiveCharacterTextSplitter(chunk_size=1000, chunk_overlap=200)\n",
    "attention_documents = text_splitter.split_documents(attention_docs)\n",
    "\n",
    "# Vector embedding and vector store\n",
    "embedding = OllamaEmbeddings(model=\"nomic-embed-text\")"
   ]
  },
  {
   "cell_type": "code",
   "execution_count": null,
   "id": "832336ae",
   "metadata": {},
   "outputs": [],
   "source": [
    "## FAISS Vector Database\n",
    "\n",
    "try:\n",
    "    combo_db = FAISS.load_local(\"../storage/attention_index\", embedding, allow_dangerous_deserialization=True)\n",
    "except Exception as e:\n",
    "    combo_db = FAISS.from_documents(attention_documents, embedding)    \n",
    "    combo_db.save_local(\"../storage/attention_index\")\n",
    "\n",
    "db = combo_db"
   ]
  },
  {
   "cell_type": "code",
   "execution_count": null,
   "id": "85a54482",
   "metadata": {},
   "outputs": [],
   "source": [
    "endpoint = os.getenv(\"NATL_AZURE_OPENAI_ENDPOINT\")\n",
    "model_name = os.getenv(\"NATL_AZURE_OPENAI_MODEL_NAME\")\n",
    "deployment = os.getenv(\"NATL_AZURE_OPENAI_MODEL__DEPLOYMENT_NAME\")\n",
    "\n",
    "subscription_key = os.getenv(\"NATL_AZURE_OPENAI_KEY\")\n",
    "api_version = \"2024-12-01-preview\"\n",
    "\n",
    "llm = AzureChatOpenAI(\n",
    "    azure_deployment=deployment,\n",
    "    openai_api_version=api_version,\n",
    "    azure_endpoint=endpoint,\n",
    "    api_key=subscription_key,\n",
    "    temperature=0.7\n",
    ")"
   ]
  },
  {
   "cell_type": "code",
   "execution_count": null,
   "id": "7489ae95",
   "metadata": {},
   "outputs": [],
   "source": [
    "## Design chat prompt\n",
    "\n",
    "prompt = ChatPromptTemplate.from_template(\"\"\"\n",
    "                                          Answer the following question based only on the provided context.\n",
    "                                          Think step by step before providing a detailed answer.\n",
    "                                          <context>\n",
    "                                          {context}\n",
    "                                          </context>\n",
    "                                          Question: {input}\"\"\")"
   ]
  },
  {
   "cell_type": "code",
   "execution_count": null,
   "id": "8c5999aa",
   "metadata": {},
   "outputs": [],
   "source": [
    "## Chain introduction\n",
    "## Create stuff documents chain\n",
    "\n",
    "document_chain = create_stuff_documents_chain(llm=llm, prompt=prompt)\n",
    "\n",
    "retriever = db.as_retriever()\n",
    "\n",
    "retrieval_chain = create_retrieval_chain(retriever, document_chain)"
   ]
  },
  {
   "cell_type": "code",
   "execution_count": null,
   "id": "758a7bda",
   "metadata": {},
   "outputs": [],
   "source": [
    "user_input = \"what is an encoder?\"\n",
    "\n",
    "try:\n",
    "    response = retrieval_chain.invoke({\"input\": user_input})\n",
    "except Exception as e:\n",
    "    print(\"error: \", str(e))"
   ]
  },
  {
   "cell_type": "code",
   "execution_count": null,
   "id": "d86cb5bd",
   "metadata": {},
   "outputs": [],
   "source": [
    "response['answer']"
   ]
  }
 ],
 "metadata": {
  "kernelspec": {
   "display_name": "venv",
   "language": "python",
   "name": "python3"
  },
  "language_info": {
   "codemirror_mode": {
    "name": "ipython",
    "version": 3
   },
   "file_extension": ".py",
   "mimetype": "text/x-python",
   "name": "python",
   "nbconvert_exporter": "python",
   "pygments_lexer": "ipython3",
   "version": "3.13.2"
  }
 },
 "nbformat": 4,
 "nbformat_minor": 5
}
