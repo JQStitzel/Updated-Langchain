{
 "cells": [
  {
   "cell_type": "code",
   "execution_count": 1,
   "id": "260493e8",
   "metadata": {},
   "outputs": [
    {
     "data": {
      "text/plain": [
       "True"
      ]
     },
     "execution_count": 1,
     "metadata": {},
     "output_type": "execute_result"
    }
   ],
   "source": [
    "from langchain_community.document_loaders import PyPDFLoader\n",
    "from langchain.text_splitter import RecursiveCharacterTextSplitter\n",
    "from langchain_ollama import OllamaEmbeddings\n",
    "from langchain_community.vectorstores import FAISS\n",
    "from langchain_core.prompts import ChatPromptTemplate\n",
    "from langchain_openai import AzureChatOpenAI\n",
    "from langchain.chains.combine_documents import create_stuff_documents_chain\n",
    "from langchain.chains import create_retrieval_chain\n",
    "from langserve import add_routes\n",
    "import uvicorn\n",
    "import os\n",
    "from dotenv import load_dotenv\n",
    "from fastapi import Request\n",
    "from openai import AzureOpenAI\n",
    "from datetime import datetime\n",
    "\n",
    "load_dotenv()"
   ]
  },
  {
   "cell_type": "code",
   "execution_count": 2,
   "id": "99f264d4",
   "metadata": {},
   "outputs": [],
   "source": [
    "\n",
    "# PDF loader\n",
    "attention_loader = PyPDFLoader('../rag/attention.pdf')\n",
    "attention_docs = attention_loader.load()\n",
    "\n",
    "text_splitter = RecursiveCharacterTextSplitter(chunk_size=1000, chunk_overlap=200)\n",
    "attention_documents = text_splitter.split_documents(attention_docs)\n",
    "\n",
    "# Vector embedding and vector store\n",
    "embedding = OllamaEmbeddings(model=\"nomic-embed-text\")"
   ]
  },
  {
   "cell_type": "code",
   "execution_count": 3,
   "id": "832336ae",
   "metadata": {},
   "outputs": [],
   "source": [
    "## FAISS Vector Database\n",
    "\n",
    "try:\n",
    "    combo_db = FAISS.load_local(\"../storage/attention_index\", embedding, allow_dangerous_deserialization=True)\n",
    "except Exception as e:\n",
    "    combo_db = FAISS.from_documents(attention_documents, embedding)    \n",
    "    combo_db.save_local(\"../storage/attention_index\")\n",
    "\n",
    "db = combo_db"
   ]
  },
  {
   "cell_type": "code",
   "execution_count": 4,
   "id": "85a54482",
   "metadata": {},
   "outputs": [],
   "source": [
    "endpoint = os.getenv(\"NATL_AZURE_OPENAI_ENDPOINT\")\n",
    "model_name = os.getenv(\"NATL_AZURE_OPENAI_MODEL_NAME\")\n",
    "deployment = os.getenv(\"NATL_AZURE_OPENAI_MODEL__DEPLOYMENT_NAME\")\n",
    "\n",
    "subscription_key = os.getenv(\"NATL_AZURE_OPENAI_KEY\")\n",
    "api_version = \"2024-12-01-preview\"\n",
    "\n",
    "llm = AzureChatOpenAI(\n",
    "    azure_deployment=deployment,\n",
    "    openai_api_version=api_version,\n",
    "    azure_endpoint=endpoint,\n",
    "    api_key=subscription_key,\n",
    "    temperature=0.7\n",
    ")"
   ]
  },
  {
   "cell_type": "code",
   "execution_count": 5,
   "id": "7489ae95",
   "metadata": {},
   "outputs": [],
   "source": [
    "## Design chat prompt\n",
    "\n",
    "prompt = ChatPromptTemplate.from_template(\"\"\"\n",
    "                                          Answer the following question based only on the provided context.\n",
    "                                          Think step by step before providing a detailed answer.\n",
    "                                          <context>\n",
    "                                          {context}\n",
    "                                          </context>\n",
    "                                          Question: {input}\"\"\")"
   ]
  },
  {
   "cell_type": "code",
   "execution_count": 6,
   "id": "8c5999aa",
   "metadata": {},
   "outputs": [],
   "source": [
    "## Chain introduction\n",
    "## Create stuff documents chain\n",
    "\n",
    "document_chain = create_stuff_documents_chain(llm=llm, prompt=prompt)\n",
    "\n",
    "retriever = db.as_retriever()\n",
    "\n",
    "retrieval_chain = create_retrieval_chain(retriever, document_chain)"
   ]
  },
  {
   "cell_type": "code",
   "execution_count": 7,
   "id": "758a7bda",
   "metadata": {},
   "outputs": [],
   "source": [
    "user_input = \"what is an encoder?\"\n",
    "\n",
    "try:\n",
    "    response = retrieval_chain.invoke({\"input\": user_input})\n",
    "except Exception as e:\n",
    "    print(\"error: \", str(e))"
   ]
  },
  {
   "cell_type": "code",
   "execution_count": 8,
   "id": "d86cb5bd",
   "metadata": {},
   "outputs": [
    {
     "data": {
      "text/plain": [
       "'Based on the provided context, here is a detailed step-by-step explanation of what an encoder is in the Transformer model:\\n\\n1. **Role in the Transformer Architecture**:  \\n   The encoder is one half of the Transformer model architecture, with the other half being the decoder. It processes the input sequence to generate a representation that the decoder can then use to produce an output sequence.\\n\\n2. **Structure of the Encoder**:  \\n   - The encoder is composed of a stack of **N = 6 identical layers**.  \\n   - Each layer contains **two sub-layers**:  \\n     a. A **multi-head self-attention mechanism** sub-layer.  \\n     b. A **position-wise fully connected feed-forward network** sub-layer.\\n\\n3. **Residual Connections and Layer Normalization**:  \\n   Around each of the two sub-layers in each encoder layer, residual connections are employed. This means the input to a sub-layer is added to its output before applying layer normalization. Formally, the output of each sub-layer is:  \\n   \\\\[\\n   \\\\text{LayerNorm}(x + \\\\text{Sublayer}(x))\\n   \\\\]  \\n   where \\\\( x \\\\) is the input to the sub-layer and \\\\(\\\\text{Sublayer}(x)\\\\) is the operation performed by that sub-layer.\\n\\n4. **Dimensionality**:  \\n   To facilitate these residual connections, all sub-layers, including the embedding layers, produce outputs of dimension \\\\( d_{model} = 512 \\\\).\\n\\n5. **Function of the Encoder**:  \\n   - The **self-attention mechanism** allows each position in the input sequence to attend to (or consider) all other positions, capturing dependencies regardless of their distance in the sequence.  \\n   - The **position-wise feed-forward network** applies two linear transformations with a ReLU activation in between, processing each position independently but identically.\\n\\n6. **Summary**:  \\n   In essence, the encoder transforms the input sequence into a series of continuous representations by repeatedly applying self-attention and feed-forward networks with residual connections and normalization, enabling the model to understand the input context comprehensively.\\n\\n---\\n\\n**In short**:  \\nThe encoder in the Transformer is a stack of six identical layers, each consisting of a multi-head self-attention sub-layer followed by a fully connected feed-forward sub-layer, with residual connections and layer normalization applied around each. It processes the input sequence to produce rich, context-aware representations used by the decoder.'"
      ]
     },
     "execution_count": 8,
     "metadata": {},
     "output_type": "execute_result"
    }
   ],
   "source": [
    "response['answer']"
   ]
  }
 ],
 "metadata": {
  "kernelspec": {
   "display_name": "venv",
   "language": "python",
   "name": "python3"
  },
  "language_info": {
   "codemirror_mode": {
    "name": "ipython",
    "version": 3
   },
   "file_extension": ".py",
   "mimetype": "text/x-python",
   "name": "python",
   "nbconvert_exporter": "python",
   "pygments_lexer": "ipython3",
   "version": "3.13.2"
  }
 },
 "nbformat": 4,
 "nbformat_minor": 5
}
