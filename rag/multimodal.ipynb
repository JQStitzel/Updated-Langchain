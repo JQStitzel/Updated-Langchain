{
 "cells": [
  {
   "cell_type": "markdown",
   "id": "15dc90ff",
   "metadata": {},
   "source": [
    "## Setup"
   ]
  },
  {
   "cell_type": "code",
   "execution_count": 1,
   "id": "966293c9",
   "metadata": {},
   "outputs": [
    {
     "data": {
      "text/plain": [
       "True"
      ]
     },
     "execution_count": 1,
     "metadata": {},
     "output_type": "execute_result"
    }
   ],
   "source": [
    "from langchain_community.document_loaders import PyPDFLoader\n",
    "from langchain.text_splitter import RecursiveCharacterTextSplitter\n",
    "from langchain_ollama import OllamaEmbeddings\n",
    "from langchain_community.vectorstores import FAISS\n",
    "from dotenv import load_dotenv\n",
    "import fitz  # PyMuPDF\n",
    "import os\n",
    "import sys\n",
    "\n",
    "load_dotenv()"
   ]
  },
  {
   "cell_type": "markdown",
   "id": "a8bf1432",
   "metadata": {},
   "source": [
    "### Extract images from the pdf\n",
    "\n",
    "- Use a library like PyMuPDF (fitz) or pdf2image to extract images\n",
    "- Use PyMuPDF or pdfplumber to extract text content"
   ]
  },
  {
   "cell_type": "code",
   "execution_count": null,
   "id": "91b3701c",
   "metadata": {},
   "outputs": [
    {
     "ename": "AttributeError",
     "evalue": "'dict' object has no attribute 'add'",
     "output_type": "error",
     "traceback": [
      "\u001b[31m---------------------------------------------------------------------------\u001b[39m",
      "\u001b[31mAttributeError\u001b[39m                            Traceback (most recent call last)",
      "\u001b[36mCell\u001b[39m\u001b[36m \u001b[39m\u001b[32mIn[8]\u001b[39m\u001b[32m, line 18\u001b[39m\n\u001b[32m     15\u001b[39m image_ext = base_image[\u001b[33m\"\u001b[39m\u001b[33mext\u001b[39m\u001b[33m\"\u001b[39m]\n\u001b[32m     16\u001b[39m image_filename = \u001b[33mf\u001b[39m\u001b[33m\"\u001b[39m\u001b[33mpage\u001b[39m\u001b[38;5;132;01m{\u001b[39;00mpage_number+\u001b[32m1\u001b[39m\u001b[38;5;132;01m}\u001b[39;00m\u001b[33m_img\u001b[39m\u001b[38;5;132;01m{\u001b[39;00mimg_index+\u001b[32m1\u001b[39m\u001b[38;5;132;01m}\u001b[39;00m\u001b[33m.\u001b[39m\u001b[38;5;132;01m{\u001b[39;00mimage_ext\u001b[38;5;132;01m}\u001b[39;00m\u001b[33m\"\u001b[39m\n\u001b[32m---> \u001b[39m\u001b[32m18\u001b[39m \u001b[43mall_images\u001b[49m\u001b[43m.\u001b[49m\u001b[43madd\u001b[49m(image_filename, image_bytes)\n\u001b[32m     20\u001b[39m \u001b[38;5;66;03m# Save the image\u001b[39;00m\n\u001b[32m     21\u001b[39m \u001b[38;5;28;01mwith\u001b[39;00m \u001b[38;5;28mopen\u001b[39m(image_filename, \u001b[33m\"\u001b[39m\u001b[33mwb\u001b[39m\u001b[33m\"\u001b[39m) \u001b[38;5;28;01mas\u001b[39;00m image_file:\n",
      "\u001b[31mAttributeError\u001b[39m: 'dict' object has no attribute 'add'"
     ]
    }
   ],
   "source": [
    "# Open the PDF file\n",
    "pdf_document = \"attention.pdf\"  # Replace with your PDF file path\n",
    "doc = fitz.open(pdf_document)\n",
    "\n",
    "all_images = dict()\n",
    "\n",
    "# Loop through each page and extract images\n",
    "for page_number in range(len(doc)):\n",
    "    page = doc[page_number]\n",
    "    images = page.get_images(full=True)\n",
    "    for img_index, img in enumerate(images):\n",
    "        xref = img[0]\n",
    "        base_image = doc.extract_image(xref)\n",
    "        image_bytes = base_image[\"image\"]\n",
    "        image_ext = base_image[\"ext\"]\n",
    "        image_filename = f\"page{page_number+1}_img{img_index+1}.{image_ext}\"\n",
    "        \n",
    "        all_images += [image_filename, image_bytes]\n",
    "\n",
    "        # Save the image\n",
    "        with open(image_filename, \"wb\") as image_file:\n",
    "            image_file.write(image_bytes)\n",
    "        print(f\"Saved: {image_filename}\")"
   ]
  },
  {
   "cell_type": "code",
   "execution_count": 5,
   "id": "a176b978",
   "metadata": {},
   "outputs": [
    {
     "data": {
      "text/plain": [
       "[(128, 175, 1520, 2239, 8, 'DeviceRGB', '', 'Im1', 'FlateDecode', 0),\n",
       " (182, 200, 445, 884, 8, 'DeviceRGB', '', 'Im2', 'FlateDecode', 0),\n",
       " (183, 201, 835, 1282, 8, 'DeviceRGB', '', 'Im3', 'FlateDecode', 0)]"
      ]
     },
     "execution_count": 5,
     "metadata": {},
     "output_type": "execute_result"
    }
   ],
   "source": [
    "all_images"
   ]
  },
  {
   "cell_type": "markdown",
   "id": "43a1d924",
   "metadata": {},
   "source": [
    "### Process and Summarize the Extracted Text\n",
    "\n",
    "- Send the extracted text to Azure AI (OpenAI service) or Ollama for summarization.\n",
    "- Using LangChain, define a prompt to get concise and meaningful summaries."
   ]
  },
  {
   "cell_type": "code",
   "execution_count": 3,
   "id": "d40bd26f",
   "metadata": {},
   "outputs": [],
   "source": [
    "## PDF loader\n",
    "\n",
    "## testing sharepoint doc\n",
    "# attention_loader = PyPDFLoader('C:/Users/ncvjqs/OneDrive - Great American Insurance Group/Regulatory Compliance - Multi-Company/A.M. Best State Rate Filings_10.19.22.pdf')\n",
    "\n",
    "attention_loader = PyPDFLoader('attention.pdf')\n",
    "attention_docs = attention_loader.load()\n",
    "\n",
    "text_splitter = RecursiveCharacterTextSplitter(chunk_size=1000, chunk_overlap=200)\n",
    "attention_documents = text_splitter.split_documents(attention_docs)\n",
    "\n",
    "# Vector embedding and vector store\n",
    "embedding = OllamaEmbeddings(model=\"nomic-embed-text\")\n",
    "\n",
    "try:\n",
    "    db = FAISS.load_local(\"../storage/attention_index\", embedding, allow_dangerous_deserialization=True)\n",
    "except Exception as e:\n",
    "    db = FAISS.from_documents(attention_docs, embedding)    \n",
    "    db.save_local(\"../storage/attention_index\")"
   ]
  },
  {
   "cell_type": "markdown",
   "id": "ab46d4c1",
   "metadata": {},
   "source": [
    "### Store Summaries in a Vector Database\n",
    "\n",
    "- Use FAISS or Azure Cognitive Search to store vector embeddings.\n",
    "- Generate embeddings using Azure AI embeddings API or a compatible embedding model.\n",
    "- Ensure that each summary is linked to a document ID for easy retrieval."
   ]
  },
  {
   "cell_type": "code",
   "execution_count": null,
   "id": "c8bd46b4",
   "metadata": {},
   "outputs": [],
   "source": []
  },
  {
   "cell_type": "markdown",
   "id": "5d3dd48b",
   "metadata": {},
   "source": [
    "### Store Images Separately\n",
    "\n",
    "- Save extracted images in Azure Blob Storage or a local database.\n",
    "- Maintain a mapping between stored images and their corresponding document IDs."
   ]
  },
  {
   "cell_type": "code",
   "execution_count": null,
   "id": "96f11873",
   "metadata": {},
   "outputs": [],
   "source": []
  },
  {
   "cell_type": "markdown",
   "id": "e7a49209",
   "metadata": {},
   "source": [
    "### Implement Retrieval-Augmented Generation (RAG)\n",
    "\n",
    "- When querying:\n",
    "    - Retrieve the relevant text summary from the vector database using similarity search.\n",
    "    - Fetch the corresponding images from storage using the linked document ID.\n",
    "- Pass retrieved text to the LLM for final response generation."
   ]
  },
  {
   "cell_type": "code",
   "execution_count": null,
   "id": "40f2214e",
   "metadata": {},
   "outputs": [],
   "source": []
  },
  {
   "cell_type": "markdown",
   "id": "bb704fc2",
   "metadata": {},
   "source": [
    "### Serving the Pipeline\n",
    "\n",
    "- Use FastAPI or Flask to expose an API that handles document ingestion and querying.\n",
    "- For indexing, batch-process incoming PDFs asynchronously."
   ]
  },
  {
   "cell_type": "code",
   "execution_count": null,
   "id": "873b9642",
   "metadata": {},
   "outputs": [],
   "source": []
  }
 ],
 "metadata": {
  "kernelspec": {
   "display_name": "venv",
   "language": "python",
   "name": "python3"
  },
  "language_info": {
   "codemirror_mode": {
    "name": "ipython",
    "version": 3
   },
   "file_extension": ".py",
   "mimetype": "text/x-python",
   "name": "python",
   "nbconvert_exporter": "python",
   "pygments_lexer": "ipython3",
   "version": "3.13.2"
  }
 },
 "nbformat": 4,
 "nbformat_minor": 5
}
