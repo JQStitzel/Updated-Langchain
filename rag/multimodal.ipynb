{
 "cells": [
  {
   "cell_type": "markdown",
   "id": "15dc90ff",
   "metadata": {},
   "source": [
    "## Setup"
   ]
  },
  {
   "cell_type": "code",
   "execution_count": 9,
   "id": "966293c9",
   "metadata": {},
   "outputs": [
    {
     "data": {
      "text/plain": [
       "True"
      ]
     },
     "execution_count": 9,
     "metadata": {},
     "output_type": "execute_result"
    }
   ],
   "source": [
    "from langchain.text_splitter import RecursiveCharacterTextSplitter\n",
    "from langchain_core.messages import HumanMessage, SystemMessage\n",
    "from langchain_community.vectorstores import FAISS\n",
    "from langchain_community.document_loaders import PyPDFLoader\n",
    "from langchain_ollama import OllamaEmbeddings\n",
    "from langchain_openai import AzureChatOpenAI\n",
    "\n",
    "from dotenv import load_dotenv\n",
    "from PIL import Image\n",
    "\n",
    "import io\n",
    "import base64\n",
    "import fitz  # PyMuPDF\n",
    "import os\n",
    "import sys\n",
    "\n",
    "load_dotenv()"
   ]
  },
  {
   "cell_type": "markdown",
   "id": "a8bf1432",
   "metadata": {},
   "source": [
    "### Extract images from the pdf\n",
    "\n",
    "- Use a library like PyMuPDF (fitz) or pdf2image to extract images\n",
    "- Use PyMuPDF or pdfplumber to extract text content"
   ]
  },
  {
   "cell_type": "code",
   "execution_count": 2,
   "id": "91b3701c",
   "metadata": {},
   "outputs": [
    {
     "name": "stdout",
     "output_type": "stream",
     "text": [
      "Saved: page3_img1.png\n",
      "Saved: page4_img1.png\n",
      "Saved: page4_img2.png\n"
     ]
    }
   ],
   "source": [
    "# Open the PDF file\n",
    "pdf_document = \"attention.pdf\"  # Replace with your PDF file path\n",
    "doc = fitz.open(pdf_document)\n",
    "\n",
    "all_images = dict()\n",
    "\n",
    "# Loop through each page and extract images\n",
    "for page_number in range(len(doc)):\n",
    "    page = doc[page_number]\n",
    "    images = page.get_images(full=True)\n",
    "    for img_index, img in enumerate(images):\n",
    "        xref = img[0]\n",
    "        base_image = doc.extract_image(xref)\n",
    "        image_bytes = base_image[\"image\"]\n",
    "        image_ext = base_image[\"ext\"]\n",
    "        image_filename = f\"page{page_number+1}_img{img_index+1}.{image_ext}\"\n",
    "        \n",
    "        all_images[image_filename] = image_bytes\n",
    "\n",
    "        # Save the image\n",
    "        with open(image_filename, \"wb\") as image_file:\n",
    "            image_file.write(image_bytes)\n",
    "        print(f\"Saved: {image_filename}\")"
   ]
  },
  {
   "cell_type": "code",
   "execution_count": null,
   "id": "a176b978",
   "metadata": {},
   "outputs": [],
   "source": [
    "all_images"
   ]
  },
  {
   "cell_type": "code",
   "execution_count": 12,
   "id": "96b3f195",
   "metadata": {},
   "outputs": [
    {
     "data": {
      "text/plain": [
       "{'page3_img1.png': 'The diagram depicts a Transformer model architecture with separate encoder and decoder stacks each repeated N times. The encoder processes inputs by adding positional encoding to input embeddings, followed by layers of multi-head attention and feed-forward networks with add & norm steps. The decoder processes output embeddings (shifted right) with positional encoding, followed by masked multi-head attention, multi-head attention over encoder outputs, and feed-forward layers with add & norm steps. The decoder output passes through a linear layer and softmax to produce output probabilities.',\n",
       " 'page4_img1.png': 'The diagram represents the scaled dot-product attention mechanism, starting with the inputs Q (query) and K (key) undergoing matrix multiplication, followed by scaling, optional masking, softmax application, and a final matrix multiplication with V (value) to produce the output.',\n",
       " 'page4_img2.png': 'Multi-head attention mechanism: Inputs V, K, Q are each linearly transformed h times, then processed through scaled dot-product attention in parallel. The outputs are concatenated and passed through a final linear layer.'}"
      ]
     },
     "execution_count": 12,
     "metadata": {},
     "output_type": "execute_result"
    }
   ],
   "source": [
    "endpoint = os.getenv(\"NATL_AZURE_OPENAI_ENDPOINT\")\n",
    "model_name = os.getenv(\"NATL_AZURE_OPENAI_MODEL_NAME\")\n",
    "deployment = os.getenv(\"NATL_AZURE_OPENAI_MODEL__DEPLOYMENT_NAME\")\n",
    "\n",
    "subscription_key = os.getenv(\"NATL_AZURE_OPENAI_KEY\")\n",
    "api_version = \"2024-12-01-preview\"\n",
    "\n",
    "llm = AzureChatOpenAI(\n",
    "    azure_deployment=deployment,\n",
    "    openai_api_version=api_version,\n",
    "    azure_endpoint=endpoint,\n",
    "    api_key=subscription_key,\n",
    "    temperature=0.7\n",
    ")\n",
    "\n",
    "image_summaries = {}\n",
    "\n",
    "# Process each image\n",
    "for image_filename, image_bytes in all_images.items():\n",
    "    # Convert image bytes to base64\n",
    "    base64_image = base64.b64encode(image_bytes).decode('utf-8')\n",
    "    \n",
    "    # Create a message with image content\n",
    "    message = HumanMessage(\n",
    "        content=[\n",
    "            {\"type\": \"text\", \"text\": \"\"\"\n",
    "                                        You are an assistant tasked with summarizing tables and text.\n",
    "                                        Give a concise summary of the table or text.\n",
    "\n",
    "                                        Respond only with the summary, no additional comment.\n",
    "                                        Do not start your message by saying \"Here is a summary\" or anything like that.\n",
    "                                        Your summary will be used for future retrieval, so stick with only information that will aid in accurate retrieval later on.\n",
    "                                        Just give the summary as it is.\n",
    "                                        \"\"\"\n",
    "            },\n",
    "            {\n",
    "                \"type\": \"image_url\",\n",
    "                \"image_url\": {\n",
    "                    \"url\": f\"data:image/jpeg;base64,{base64_image}\"\n",
    "                }\n",
    "            }\n",
    "        ]\n",
    "    )\n",
    "    \n",
    "    # Get the response\n",
    "    response = llm.invoke([message])\n",
    "    image_summaries[image_filename] = response.content\n",
    "\n",
    "image_summaries"
   ]
  },
  {
   "cell_type": "markdown",
   "id": "43a1d924",
   "metadata": {},
   "source": [
    "### Process and Summarize the Extracted Text\n",
    "\n",
    "- Send the extracted text to Azure AI (OpenAI service) or Ollama for summarization.\n",
    "- Using LangChain, define a prompt to get concise and meaningful summaries."
   ]
  },
  {
   "cell_type": "code",
   "execution_count": null,
   "id": "d40bd26f",
   "metadata": {},
   "outputs": [],
   "source": [
    "## PDF loader\n",
    "\n",
    "## testing sharepoint doc\n",
    "# attention_loader = PyPDFLoader('C:/Users/ncvjqs/OneDrive - Great American Insurance Group/Regulatory Compliance - Multi-Company/A.M. Best State Rate Filings_10.19.22.pdf')\n",
    "\n",
    "attention_loader = PyPDFLoader('attention.pdf')\n",
    "attention_docs = attention_loader.load()\n",
    "\n",
    "text_splitter = RecursiveCharacterTextSplitter(chunk_size=1000, chunk_overlap=200)\n",
    "attention_documents = text_splitter.split_documents(attention_docs)\n",
    "\n",
    "# Vector embedding and vector store\n",
    "embedding = OllamaEmbeddings(model=\"nomic-embed-text\")\n",
    "\n",
    "try:\n",
    "    db = FAISS.load_local(\"../storage/attention_index\", embedding, allow_dangerous_deserialization=True)\n",
    "except Exception as e:\n",
    "    db = FAISS.from_documents(attention_docs, embedding)    \n",
    "    db.save_local(\"../storage/attention_index\")"
   ]
  },
  {
   "cell_type": "code",
   "execution_count": null,
   "id": "c9227e92",
   "metadata": {},
   "outputs": [],
   "source": [
    "\n",
    "text_splitter = RecursiveCharacterTextSplitter(chunk_size=1000, chunk_overlap=200)\n",
    "attention_documents = text_splitter.split_documents(attention_docs)\n",
    "\n",
    "# Vector embedding and vector store\n",
    "embedding = OllamaEmbeddings(model=\"nomic-embed-text\")\n",
    "\n",
    "try:\n",
    "    db = FAISS.load_local(\"../storage/attention_index\", embedding, allow_dangerous_deserialization=True)\n",
    "except Exception as e:\n",
    "    db = FAISS.from_documents(attention_docs, embedding)    \n",
    "    db.save_local(\"../storage/attention_index\")"
   ]
  },
  {
   "cell_type": "markdown",
   "id": "ab46d4c1",
   "metadata": {},
   "source": [
    "### Store Summaries in a Vector Database\n",
    "\n",
    "- Use FAISS or Azure Cognitive Search to store vector embeddings.\n",
    "- Generate embeddings using Azure AI embeddings API or a compatible embedding model.\n",
    "- Ensure that each summary is linked to a document ID for easy retrieval."
   ]
  },
  {
   "cell_type": "code",
   "execution_count": null,
   "id": "c8bd46b4",
   "metadata": {},
   "outputs": [],
   "source": []
  },
  {
   "cell_type": "markdown",
   "id": "5d3dd48b",
   "metadata": {},
   "source": [
    "### Store Images Separately\n",
    "\n",
    "- Save extracted images in Azure Blob Storage or a local database.\n",
    "- Maintain a mapping between stored images and their corresponding document IDs."
   ]
  },
  {
   "cell_type": "code",
   "execution_count": null,
   "id": "96f11873",
   "metadata": {},
   "outputs": [],
   "source": []
  },
  {
   "cell_type": "markdown",
   "id": "e7a49209",
   "metadata": {},
   "source": [
    "### Implement Retrieval-Augmented Generation (RAG)\n",
    "\n",
    "- When querying:\n",
    "    - Retrieve the relevant text summary from the vector database using similarity search.\n",
    "    - Fetch the corresponding images from storage using the linked document ID.\n",
    "- Pass retrieved text to the LLM for final response generation."
   ]
  },
  {
   "cell_type": "code",
   "execution_count": null,
   "id": "40f2214e",
   "metadata": {},
   "outputs": [],
   "source": []
  },
  {
   "cell_type": "markdown",
   "id": "bb704fc2",
   "metadata": {},
   "source": [
    "### Serving the Pipeline\n",
    "\n",
    "- Use FastAPI or Flask to expose an API that handles document ingestion and querying.\n",
    "- For indexing, batch-process incoming PDFs asynchronously."
   ]
  },
  {
   "cell_type": "code",
   "execution_count": null,
   "id": "873b9642",
   "metadata": {},
   "outputs": [],
   "source": []
  }
 ],
 "metadata": {
  "kernelspec": {
   "display_name": "venv",
   "language": "python",
   "name": "python3"
  },
  "language_info": {
   "codemirror_mode": {
    "name": "ipython",
    "version": 3
   },
   "file_extension": ".py",
   "mimetype": "text/x-python",
   "name": "python",
   "nbconvert_exporter": "python",
   "pygments_lexer": "ipython3",
   "version": "3.13.2"
  }
 },
 "nbformat": 4,
 "nbformat_minor": 5
}
